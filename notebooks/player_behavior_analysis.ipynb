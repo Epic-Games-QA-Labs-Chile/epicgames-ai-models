import pandas as pd\nprint(pd.read_csv('datasets/player_stats.csv').head())
